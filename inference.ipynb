{
 "cells": [
  {
   "cell_type": "code",
   "execution_count": 1,
   "metadata": {},
   "outputs": [],
   "source": [
    "# # %%\n",
    "# # https://github.com/meta-llama/llama-models/blob/main/README.md\n",
    "\n",
    "# # %%\n",
    "# ! pip install llama-toolchain\n",
    "\n",
    "# # %%\n",
    "# ! llama model list\n",
    "\n",
    "# # %%\n",
    "# ! llama download --source meta --model-id Meta-Llama3.1-8B"
   ]
  },
  {
   "cell_type": "code",
   "execution_count": 1,
   "metadata": {},
   "outputs": [
    {
     "name": "stdout",
     "output_type": "stream",
     "text": [
      "[\n",
      "    {\n",
      "        \"text\": \"This music has a meter of 4/4 and a balanced beat. Its playtime is about 40 seconds. The use of grand piano, guitar, bass, violin, synthesizer and drum is vital to the music's overall sound and performance. The song spans approximately 13 ~ 16 bars.\"\n",
      "    },\n",
      "    {\n",
      "        \"text\": \"The music's limited pitch range of 5 octaves allows for a greater emphasis on the nuances of tone and phrasing, while its use of major key creates a distinct atmosphere. With a runtime of 31 ~ 45 seconds, this song showcases a highly vigorous rhythm and features grand piano, guitar, bass, violin, synthesizer and drum. It is played at a moderate speed, adhering to a 4/4 meter, and is characterized by its religious and pop sound.\"\n",
      "    }\n",
      "]"
     ]
    }
   ],
   "source": [
    "! cd modules/musecoco/1-text2attribute_model ;\\\n",
    "cat data/predict.json ;\\\n",
    "bash predict.sh ;\\\n",
    "python stage2_pre.py ;\\\n",
    "mv infer_test.bin ../2-attribute2music_model/data/infer_input\n",
    "\n",
    "! cd /workspace/Chat_Midi/muzic/musecoco/2-attribute2music_model ;\\\n",
    "bash interactive_1billion.sh 0 2"
   ]
  },
  {
   "cell_type": "code",
   "execution_count": 9,
   "metadata": {},
   "outputs": [
    {
     "name": "stdout",
     "output_type": "stream",
     "text": [
      "Extract attributes: 100%|█████████████████████████| 3/3 [00:02<00:00,  1.39it/s]\n",
      "Comput Accuracy: 100%|██████████████████████████| 2/2 [00:00<00:00, 1582.76it/s]\n",
      "ASA: 0.45833333333333337\n"
     ]
    }
   ],
   "source": [
    "! cd muzic/musecoco/evaluation ;\\\n",
    "python eval_acc_v3.py --root /workspace/Chat_Midi/muzic/musecoco/2-attribute2music_model/generation/0505/linear_mask-1billion-checkpoint_2_280000/infer_test/topk15-t1.0-ngram0"
   ]
  },
  {
   "cell_type": "code",
   "execution_count": null,
   "metadata": {},
   "outputs": [],
   "source": []
  }
 ],
 "metadata": {
  "kernelspec": {
   "display_name": "MuseCoco",
   "language": "python",
   "name": "python3"
  },
  "language_info": {
   "codemirror_mode": {
    "name": "ipython",
    "version": 3
   },
   "file_extension": ".py",
   "mimetype": "text/x-python",
   "name": "python",
   "nbconvert_exporter": "python",
   "pygments_lexer": "ipython3",
   "version": "3.8.19"
  }
 },
 "nbformat": 4,
 "nbformat_minor": 2
}
